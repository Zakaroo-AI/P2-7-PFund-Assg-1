{
 "cells": [
  {
   "cell_type": "code",
   "execution_count": 100,
   "id": "71bf915b",
   "metadata": {},
   "outputs": [],
   "source": [
    "# imports\n",
    "\n",
    "import time\n",
    "import random\n",
    "\n",
    "from finta import TA\n",
    "\n",
    "import numpy as np\n",
    "import matplotlib.pyplot as plt\n",
    "import pandas as pd\n",
    "\n",
    "import talib\n",
    "import yfinance as yf"
   ]
  },
  {
   "cell_type": "code",
   "execution_count": 60,
   "id": "5ec840c0",
   "metadata": {},
   "outputs": [],
   "source": [
    "# constants\n",
    "\n",
    "TICKERS = ['AAPL', 'MSFT', 'GOOGL', 'AMZN', 'TSLA']\n",
    "FFILL_COLS = ['Open', 'High', 'Low', 'Close']"
   ]
  },
  {
   "cell_type": "code",
   "execution_count": 61,
   "id": "c3e2b8df",
   "metadata": {},
   "outputs": [],
   "source": [
    "# import stock data from downloaded csv\n",
    "\n",
    "ticker_dict = {}\n",
    "for ticker in TICKERS:\n",
    "    df = pd.read_csv(f'data_2022\\\\{ticker}_2022.csv', index_col = 'Date', parse_dates = True)\n",
    "    df.index = pd.to_datetime(df.index, utc = True)\n",
    "    #df = df.loc['2022-01-01': '2022-01-31']\n",
    "    df = df.loc['2022-01-01': '2022-03-31']\n",
    "    # print(ticker, df.isnull().sum())\n",
    "    # print(ticker, df.isnull().any())\n",
    "\n",
    "    # no point summing if im gna not look at it\n",
    "\n",
    "    df[FFILL_COLS] = df[FFILL_COLS].ffill()\n",
    "    #df[FFILL_COLS] = df[FFILL_COLS].ffill().bfill() # bfill for leading NaNs\n",
    "    ticker_dict[ticker] = df\n",
    "\n",
    "    "
   ]
  },
  {
   "cell_type": "code",
   "execution_count": 62,
   "id": "2cd08f6b",
   "metadata": {},
   "outputs": [
    {
     "name": "stdout",
     "output_type": "stream",
     "text": [
      "Date\n",
      "2022-01-03 05:00:00+00:00    178.443115\n",
      "2022-01-04 05:00:00+00:00    176.178421\n",
      "2022-01-05 05:00:00+00:00    171.492065\n",
      "2022-01-06 05:00:00+00:00    168.629318\n",
      "2022-01-07 05:00:00+00:00    168.795975\n",
      "                                ...    \n",
      "2022-03-25 04:00:00+00:00    171.514252\n",
      "2022-03-28 04:00:00+00:00    172.378098\n",
      "2022-03-29 04:00:00+00:00    175.676498\n",
      "2022-03-30 04:00:00+00:00    174.508286\n",
      "2022-03-31 04:00:00+00:00    171.406265\n",
      "Name: Close, Length: 62, dtype: float64\n"
     ]
    }
   ],
   "source": [
    "# get sample data from ticker_dict\n",
    "\n",
    "#aapl_close = ticker_dict['AAPL'].loc['2022-01-03':'2022-01-31']['Close']\n",
    "aapl_close = ticker_dict['AAPL'].loc['2022-01-03':'2022-03-31']['Close']\n",
    "print(aapl_close)"
   ]
  },
  {
   "cell_type": "code",
   "execution_count": 63,
   "id": "9da44593",
   "metadata": {},
   "outputs": [],
   "source": [
    "# Simple Moving Average (SMA) func, but rolling window\n",
    "\n",
    "#def simpleMovingAverage_rolling(ticker, start, end, window = 5, ticker_dict = ticker_dict):\n",
    "def simpleMovingAverage(data, window = 5):\n",
    "    \"\"\" Calculates the average closing price over a user defined period for the specified stock\n",
    "\n",
    "    Args:\n",
    "        data (pd.Series): stock close prices for specified ticker over user-defined period\n",
    "        window (int): the amount of data points being calculated, defaults to 5\n",
    "    \n",
    "    Returns:\n",
    "        rolling_sma (list[np.nan, np.float]): list of floats representing average of close prices of last 5 entries (including self)\n",
    "    \"\"\"\n",
    "\n",
    "    if data.size < window:\n",
    "        raise IndexError('Too little data selected for window size')\n",
    "\n",
    "    # we can use this as one of the test cases\n",
    "    print('Test SMA:', data.rolling(window).mean())\n",
    "\n",
    "    window_sum = data.iloc[:window].sum()\n",
    "    rolling_sma = [np.nan] * (window - 1) + [window_sum / window]\n",
    "\n",
    "    for i in range(window, data.size):\n",
    "        window_sum = window_sum + data.iloc[i] - data.iloc[i - window]\n",
    "        rolling_sma.append(window_sum / window)\n",
    "\n",
    "    # maybe return rolling_sma with window - 1 of NaNs at the start?\n",
    "    # rolling_sma = [np.nan] * (window - 1) + rolling_sma\n",
    "\n",
    "    return rolling_sma"
   ]
  },
  {
   "cell_type": "code",
   "execution_count": 64,
   "id": "c5125291",
   "metadata": {},
   "outputs": [
    {
     "name": "stdout",
     "output_type": "stream",
     "text": [
      "Test SMA: Date\n",
      "2022-01-03 05:00:00+00:00           NaN\n",
      "2022-01-04 05:00:00+00:00           NaN\n",
      "2022-01-05 05:00:00+00:00           NaN\n",
      "2022-01-06 05:00:00+00:00           NaN\n",
      "2022-01-07 05:00:00+00:00    172.707779\n",
      "                                ...    \n",
      "2022-03-25 04:00:00+00:00    167.509113\n",
      "2022-03-28 04:00:00+00:00    169.515613\n",
      "2022-03-29 04:00:00+00:00    171.506409\n",
      "2022-03-30 04:00:00+00:00    172.990662\n",
      "2022-03-31 04:00:00+00:00    173.096680\n",
      "Name: Close, Length: 62, dtype: float64\n",
      "[nan, nan, nan, nan, np.float64(172.70777893066406), np.float64(170.7822723388672), np.float64(169.87637634277343), np.float64(169.99598388671876), np.float64(170.03323669433593), np.float64(170.2097137451172), np.float64(169.74107666015624), np.float64(168.00576782226562), np.float64(165.84496154785157), np.float64(163.927294921875), np.float64(161.68216857910156), np.float64(159.71744689941406), np.float64(158.4350799560547), np.float64(157.39781799316407), np.float64(158.95077209472657), np.float64(161.53119506835938), np.float64(164.4390655517578), np.float64(167.60576782226562), np.float64(170.28814697265625), np.float64(170.73513488769532), np.float64(170.16624755859374), np.float64(170.25306091308593), np.float64(170.38336181640625), np.float64(170.27341918945314), np.float64(169.5371826171875), np.float64(168.9913818359375), np.float64(168.59087219238282), np.float64(167.85857238769532), np.float64(167.22246398925782), np.float64(166.95938110351562), np.float64(166.06411743164062), np.float64(163.5667938232422), np.float64(161.6407928466797), np.float64(160.84957885742188), np.float64(160.42158203125), np.float64(160.20168762207032), np.float64(161.4758728027344), np.float64(162.1610595703125), np.float64(161.8312255859375), np.float64(160.68858337402344), np.float64(159.55772094726564), np.float64(158.84896850585938), np.float64(157.33526611328125), np.float64(155.67823791503906), np.float64(153.97409362792968), np.float64(153.51271057128906), np.float64(152.85303955078126), np.float64(153.26532897949218), np.float64(155.08138122558594), np.float64(157.97921142578124), np.float64(160.67483825683593), np.float64(162.75987243652344), np.float64(165.40051879882813), np.float64(167.5091125488281), np.float64(169.51561279296874), np.float64(171.50640869140625), np.float64(172.99066162109375), np.float64(173.0966796875)]\n"
     ]
    }
   ],
   "source": [
    "print(simpleMovingAverage(aapl_close, 5))"
   ]
  },
  {
   "cell_type": "code",
   "execution_count": 65,
   "id": "9a9f1358",
   "metadata": {},
   "outputs": [],
   "source": [
    "# Upward and Downward Runs\n",
    "#def upwardDownwardRuns(ticker, start, end, ticker_dict = ticker_dict):\n",
    "def upwardDownwardRuns(data):\n",
    "    \"\"\" Calculates highest no. of consecutive upward and downward trending closing prices\n",
    "\n",
    "    Args:\n",
    "        ticker (str): stock ticker\n",
    "        start (str): first entry in interval\n",
    "        end (str): last entry in interval\n",
    "        ticker_dict (dict: str[df]): defaults to ticker_dict\n",
    "    \n",
    "    Returns:\n",
    "        upward (int): no. of days in longest trend upwards of closing price\n",
    "        downward (int): no. of days in longest trend downwards of closing price\n",
    "    \"\"\"\n",
    "\n",
    "    upward = downward = lowscore = highscore = 0\n",
    "    i = 1\n",
    "    n = len(data)\n",
    "    while i < n:\n",
    "        diff = data.iloc[i] - data.iloc[i - 1]\n",
    "        if diff > 0:\n",
    "            upward += 1\n",
    "            downward = 0\n",
    "            if upward > highscore:\n",
    "                highscore = upward\n",
    "            # highscore = max(highscore, upward)\n",
    "        elif diff < 0:\n",
    "            downward += 1\n",
    "            upward = 0\n",
    "            if downward > lowscore:\n",
    "                lowscore = downward\n",
    "            # lowscore = max(lowscore, downward)\n",
    "        else:\n",
    "            upward = 0\n",
    "            downward = 0\n",
    "        i += 1\n",
    "        \n",
    "    return highscore, lowscore"
   ]
  },
  {
   "cell_type": "code",
   "execution_count": 66,
   "id": "dbc6592c",
   "metadata": {},
   "outputs": [
    {
     "name": "stdout",
     "output_type": "stream",
     "text": [
      "(11, 8)\n"
     ]
    }
   ],
   "source": [
    "print(upwardDownwardRuns(aapl_close))"
   ]
  },
  {
   "cell_type": "code",
   "execution_count": 67,
   "id": "17beff29",
   "metadata": {},
   "outputs": [],
   "source": [
    "def relativeStrengthIndex(data, interval = 14):\n",
    "    \"\"\" Measures the speed and magnitude of recent price changes to detect overbought/oversold conditions\n",
    "\n",
    "    Args:\n",
    "        data (pd.Series): stock close prices for specified ticker over user-defined period\n",
    "        interval (int): the amount of data points being calculated, defaults to 5\n",
    "    \n",
    "    Returns:\n",
    "        rsi_values (list[np.nan, np.float]): list of floats signalling a trend upwards or downwards\n",
    "    \"\"\"\n",
    "    # offset = pd.concat([pd.Series([0]), truncated], ignore_index = True)\n",
    "    # #print(offset)\n",
    "    # differences = truncated - offset.iloc[:-1]\n",
    "    differences = data[1:].values - data.values[:-1]  # contains length - 1 elements\n",
    "\n",
    "    print(talib.RSI(data, timeperiod=interval))\n",
    "\n",
    "    gains = 0\n",
    "    losses = 0\n",
    "    for i in differences[:interval]:\n",
    "        gains += max(i, 0)     # if i is positive, use i else use 0\n",
    "        losses += max(-i, 0)   # if i is negative, use i else use 0\n",
    "    \n",
    "    avg_gain = gains / interval\n",
    "    avg_loss = losses / interval\n",
    "    if avg_loss == 0:\n",
    "        rsi = 100\n",
    "    else:\n",
    "        rsi = 100 - 100/(1 + avg_gain / avg_loss)\n",
    "    # rs = ( sum(gains) / len(gains) ) / ( sum(losses) / len(losses) )\n",
    "    # rsi = 100 - 100/(1 + rs) \n",
    "    rsi_values = [np.nan] * interval + [rsi]\n",
    "\n",
    "    # we use smoothing as it counters having a period of no losses, which may cause avg_loss to be 0, causing divide by zero error\n",
    "    # as long as there is one entry > 0, it will never divide by zero (if there is none, we use rsi = 100)\n",
    "    for i in differences[interval:]:\n",
    "        # obvious thing to do here is to loop thru differences every time, but we can use sliding window here again\n",
    "        # use remainder as index?\n",
    "        avg_gain = (avg_gain * (interval - 1) + max(i, 0)) / interval # i-1 because differences has one less entry than truncated\n",
    "        avg_loss = (avg_loss * (interval - 1) + max(-i, 0)) / interval\n",
    "\n",
    "        if avg_loss == 0:\n",
    "            rsi = 100\n",
    "        else:\n",
    "            rsi = 100 - 100/(1 + avg_gain/avg_loss)\n",
    "\n",
    "        # try:    # shud replace this with proper handling later, currently meant to weed out dividing by zero errors -> no loss = strength is max\n",
    "        #     #rs = ( sum(gains) / len(gains) ) / ( sum(losses) / len(losses) )\n",
    "        #     rs = sum(gains) / sum(losses)\n",
    "        #     rsi = 100 - 100/(1 + rs) \n",
    "        # except:\n",
    "        #     rsi = 100\n",
    "        rsi_values.append(rsi)\n",
    "\n",
    "    #to implement smoothing\n",
    "\n",
    "    return rsi_values"
   ]
  },
  {
   "cell_type": "code",
   "execution_count": 68,
   "id": "490f427c",
   "metadata": {},
   "outputs": [
    {
     "name": "stdout",
     "output_type": "stream",
     "text": [
      "Date\n",
      "2022-01-03 05:00:00+00:00          NaN\n",
      "2022-01-04 05:00:00+00:00          NaN\n",
      "2022-01-05 05:00:00+00:00          NaN\n",
      "2022-01-06 05:00:00+00:00          NaN\n",
      "2022-01-07 05:00:00+00:00          NaN\n",
      "                               ...    \n",
      "2022-03-25 04:00:00+00:00    62.781658\n",
      "2022-03-28 04:00:00+00:00    63.688138\n",
      "2022-03-29 04:00:00+00:00    66.993732\n",
      "2022-03-30 04:00:00+00:00    64.745637\n",
      "2022-03-31 04:00:00+00:00    59.076670\n",
      "Length: 62, dtype: float64\n",
      "[nan, nan, nan, nan, nan, nan, nan, nan, nan, nan, nan, nan, nan, nan, np.float64(15.097549643326786), np.float64(14.138430327966063), np.float64(14.091280790701077), np.float64(13.831829975979701), np.float64(41.330294206916534), np.float64(48.42932132041199), np.float64(48.189385621242835), np.float64(50.11480087106165), np.float64(45.73943175662544), np.float64(45.31857130792094), np.float64(44.215832055073164), np.float64(49.91548555092102), np.float64(52.3154559949989), np.float64(45.568868118120385), np.float64(40.825734547651564), np.float64(41.279732809573076), np.float64(48.24543743714938), np.float64(47.870091964867356), np.float64(42.43319207302092), np.float64(40.310495954323585), np.float64(36.592547430800565), np.float64(32.05201382991754), np.float64(37.31448592971113), np.float64(41.19068348603789), np.float64(41.68758463449633), np.float64(39.15407267357825), np.float64(45.406929548573906), np.float64(44.91866898796205), np.float64(40.56321352368855), np.float64(35.83121885870723), np.float64(33.79090652957797), np.float64(43.96943598939511), np.float64(38.80428766976623), np.float64(35.014597789852914), np.float64(31.4299093777706), np.float64(38.77169759526417), np.float64(45.1399533491234), np.float64(46.511256221300556), np.float64(50.82916732249633), np.float64(52.548027757416044), np.float64(56.56579652128477), np.float64(58.1092260059444), np.float64(62.133293434449044), np.float64(62.781657968187766), np.float64(63.68813794613617), np.float64(66.99373185129895), np.float64(64.7456365184241), np.float64(59.07667013867287)]\n"
     ]
    }
   ],
   "source": [
    "output = relativeStrengthIndex(aapl_close)\n",
    "print(output)"
   ]
  },
  {
   "cell_type": "code",
   "execution_count": 81,
   "id": "bd4317b2",
   "metadata": {},
   "outputs": [],
   "source": [
    "def exponentialMovingAverage(data, interval = 10, smoothing = 2.0):\n",
    "    \"\"\" Calculates a weighted moving average of closing prices that gives more importance to recent prices\n",
    "\n",
    "    Args:\n",
    "        ticker (str): stock ticker\n",
    "        start (str): first entry in interval\n",
    "        end (str): last entry in interval\n",
    "        interval (int): amount of preceding data points to use in calculating EMA, defaults to 10\n",
    "        smoothing (float): strength of weightage for recent data points, defaults to 2.0\n",
    "        ticker_dict (dict: str[df]): dictionary, with key-value pairs of ticker to dataframe containing stock history, defaults to ticker_dict\n",
    "    \n",
    "    Returns:\n",
    "        rolling_ema (list[np.float]): list of floats representing weighted average of close prices\n",
    "        or\n",
    "        rolling_ema (list[np.nan, np.float]): list of floats representing weighted average of close prices\n",
    "    \"\"\"\n",
    "\n",
    "    # pandas_method = truncated.ewm(span=interval, adjust=False).mean()\n",
    "    # print(pandas_method.iloc[(interval - 1):].reset_index(drop = True))\n",
    "    # print(talib.EMA(data, timeperiod = interval))\n",
    "    # talib_ema = talib.EMA(data, timeperiod = interval)\n",
    "\n",
    "    if data.size < interval:\n",
    "        raise IndexError('Data slice is too small given interval size of {interval}')\n",
    "    \n",
    "    # weight -> % of ema represented by the most recent entry\n",
    "    #weight = smoothing / (interval + 1)     # weighting more recent entries is greater for shorter intervals\n",
    "    weight = 2 / (interval + 1)     # weighting more recent entries is greater for shorter intervals\n",
    "    sma = data.iloc[:interval].sum() / interval    # using sma as an initial state, afterwards we can implement EMA\n",
    "    \n",
    "    #return rolling_ema should figure out why interval must minus one\n",
    "    rolling_ema = [np.nan] * (interval-1) + [sma]\n",
    "    #rolling_ema = [sma]\n",
    "\n",
    "    for i in range(interval, data.size):\n",
    "        ema = data.iloc[i] * weight + rolling_ema[-1] * (1 - weight)\n",
    "        rolling_ema.append(ema)\n",
    "    \n",
    "    # print(type(talib_ema.iloc[0]))\n",
    "    # print(talib_ema)\n",
    "    # print(type(rolling_ema[0]))\n",
    "    \n",
    "    return rolling_ema"
   ]
  },
  {
   "cell_type": "code",
   "execution_count": 82,
   "id": "ab3a0a98",
   "metadata": {},
   "outputs": [
    {
     "name": "stdout",
     "output_type": "stream",
     "text": [
      "[nan, nan, nan, nan, nan, nan, nan, nan, nan, np.float64(171.45874633789063), np.float64(170.55213734019884), np.float64(169.17400270572375), np.float64(167.73983344601828), np.float64(166.19209084592546), np.float64(164.78493401420891), np.float64(163.305634821107), np.float64(162.07925796886735), np.float64(160.99207687687158), np.float64(162.08297556349862), np.float64(163.76876966825313), np.float64(165.11774625023267), np.float64(166.44071483861367), np.float64(166.99906808883733), np.float64(167.40413920514249), np.float64(167.60527871223303), np.float64(168.33562942666367), np.float64(169.19198371325749), np.float64(169.15015841631578), np.float64(168.4948162255652), np.float64(168.0014682914425), np.float64(168.29568486096716), np.float64(168.49357470069899), np.float64(168.00045249837018), np.float64(167.31498148748042), np.float64(166.22227289494134), np.float64(164.56968534710398), np.float64(163.69411966520866), np.float64(163.354340206371), np.float64(163.12452886114303), np.float64(162.5938167377747), np.float64(162.75929865548042), np.float64(162.8357912516786), np.float64(162.3522224276873), np.float64(161.2658486677527), np.float64(160.04502164613004), np.float64(160.0296004519473), np.float64(159.22630872826227), np.float64(157.89262018285376), np.float64(156.0678611155167), np.float64(155.37268359735455), np.float64(155.6070774843057), np.float64(155.9826894172018), np.float64(156.88970642479865), np.float64(157.88168640455828), np.float64(159.30729231662013), np.float64(160.72178841796617), np.float64(162.56804051047374), np.float64(164.1946243647484), np.float64(165.68252857737224), np.float64(167.49961400204745), np.float64(168.7739179148499), np.float64(169.25252652283882)]\n"
     ]
    }
   ],
   "source": [
    "output = exponentialMovingAverage(aapl_close)\n",
    "print(output)"
   ]
  },
  {
   "cell_type": "code",
   "execution_count": 101,
   "id": "546ff2ad",
   "metadata": {},
   "outputs": [],
   "source": [
    "def movingAverageConvergenceDiversion(data, fast_period = 12, slow_period = 26, signal_period = 9):\n",
    "    \"\"\" A technical indicator used for identifying points for buying and selling\n",
    "\n",
    "    Args:\n",
    "        data ()\n",
    "        fast_period (int) = \n",
    "        slow_period (int) = \n",
    "        signal_period (int) = \n",
    "    \n",
    "    Returns:\n",
    "        rolling_ema (list[np.float]): list of floats representing weighted average of close prices\n",
    "        or\n",
    "        rolling_ema (list[np.nan, np.float]): list of floats representing weighted average of close prices\n",
    "    \"\"\"\n",
    "\n",
    "    # macd, macd_signal, macd_hist = talib.MACD(data, fastperiod=12, slowperiod=26, signalperiod=9)\n",
    "    # # print('MACD:', macd, '\\nMACD Signal:', macd_signal, '\\nMACD Hist:', macd_hist)\n",
    "    # print('Talib MACD:', macd)\n",
    "    finta_macd = TA.MACD(data, period_fast=12, period_slow=26, signal=9)\n",
    "    print('finta macd:', finta_macd)\n",
    "\n",
    "    \n",
    "    ema_fast = exponentialMovingAverage(data, interval = fast_period)\n",
    "    ema_slow = exponentialMovingAverage(data, interval = slow_period)\n",
    "    \n",
    "    # ema_fast = talib.EMA(data, timeperiod = fast_period)\n",
    "    # ema_slow = talib.EMA(data, timeperiod = slow_period)\n",
    "    # macd_line = np.array(aligned_fast) - np.array(aligned_slow)\n",
    "    macd_line = np.array(ema_fast) - np.array(ema_slow)\n",
    "    print('My MACD Line:', macd_line)\n",
    "\n",
    "    #signal_line = exponentialMovingAverage(macd_line, interval = 9)\n",
    "    #hist = np.array(macd_line) - np.array(signal_line)\n",
    "    return "
   ]
  },
  {
   "cell_type": "code",
   "execution_count": 102,
   "id": "fe4878a2",
   "metadata": {},
   "outputs": [
    {
     "ename": "IndexError",
     "evalue": "list index out of range",
     "output_type": "error",
     "traceback": [
      "\u001b[31m---------------------------------------------------------------------------\u001b[39m",
      "\u001b[31mIndexError\u001b[39m                                Traceback (most recent call last)",
      "\u001b[36mCell\u001b[39m\u001b[36m \u001b[39m\u001b[32mIn[102]\u001b[39m\u001b[32m, line 1\u001b[39m\n\u001b[32m----> \u001b[39m\u001b[32m1\u001b[39m \u001b[43mmovingAverageConvergenceDiversion\u001b[49m\u001b[43m(\u001b[49m\u001b[43maapl_close\u001b[49m\u001b[43m,\u001b[49m\u001b[43m \u001b[49m\u001b[43mfast_period\u001b[49m\u001b[43m \u001b[49m\u001b[43m=\u001b[49m\u001b[43m \u001b[49m\u001b[32;43m12\u001b[39;49m\u001b[43m,\u001b[49m\u001b[43m \u001b[49m\u001b[43mslow_period\u001b[49m\u001b[43m \u001b[49m\u001b[43m=\u001b[49m\u001b[43m \u001b[49m\u001b[32;43m26\u001b[39;49m\u001b[43m,\u001b[49m\u001b[43m \u001b[49m\u001b[43msignal_period\u001b[49m\u001b[43m \u001b[49m\u001b[43m=\u001b[49m\u001b[43m \u001b[49m\u001b[32;43m9\u001b[39;49m\u001b[43m)\u001b[49m\n",
      "\u001b[36mCell\u001b[39m\u001b[36m \u001b[39m\u001b[32mIn[101]\u001b[39m\u001b[32m, line 19\u001b[39m, in \u001b[36mmovingAverageConvergenceDiversion\u001b[39m\u001b[34m(data, fast_period, slow_period, signal_period)\u001b[39m\n\u001b[32m      2\u001b[39m \u001b[38;5;250m\u001b[39m\u001b[33;03m\"\"\" A technical indicator used for identifying points for buying and selling\u001b[39;00m\n\u001b[32m      3\u001b[39m \n\u001b[32m      4\u001b[39m \u001b[33;03mArgs:\u001b[39;00m\n\u001b[32m   (...)\u001b[39m\u001b[32m     13\u001b[39m \u001b[33;03m    rolling_ema (list[np.nan, np.float]): list of floats representing weighted average of close prices\u001b[39;00m\n\u001b[32m     14\u001b[39m \u001b[33;03m\"\"\"\u001b[39;00m\n\u001b[32m     16\u001b[39m \u001b[38;5;66;03m# macd, macd_signal, macd_hist = talib.MACD(data, fastperiod=12, slowperiod=26, signalperiod=9)\u001b[39;00m\n\u001b[32m     17\u001b[39m \u001b[38;5;66;03m# # print('MACD:', macd, '\\nMACD Signal:', macd_signal, '\\nMACD Hist:', macd_hist)\u001b[39;00m\n\u001b[32m     18\u001b[39m \u001b[38;5;66;03m# print('Talib MACD:', macd)\u001b[39;00m\n\u001b[32m---> \u001b[39m\u001b[32m19\u001b[39m finta_macd = \u001b[43mTA\u001b[49m\u001b[43m.\u001b[49m\u001b[43mMACD\u001b[49m\u001b[43m(\u001b[49m\u001b[43mdata\u001b[49m\u001b[43m,\u001b[49m\u001b[43m \u001b[49m\u001b[43mperiod_fast\u001b[49m\u001b[43m=\u001b[49m\u001b[32;43m12\u001b[39;49m\u001b[43m,\u001b[49m\u001b[43m \u001b[49m\u001b[43mperiod_slow\u001b[49m\u001b[43m=\u001b[49m\u001b[32;43m26\u001b[39;49m\u001b[43m,\u001b[49m\u001b[43m \u001b[49m\u001b[43msignal\u001b[49m\u001b[43m=\u001b[49m\u001b[32;43m9\u001b[39;49m\u001b[43m)\u001b[49m\n\u001b[32m     20\u001b[39m \u001b[38;5;28mprint\u001b[39m(\u001b[33m'\u001b[39m\u001b[33mfinta macd:\u001b[39m\u001b[33m'\u001b[39m, finta_macd)\n\u001b[32m     23\u001b[39m ema_fast = exponentialMovingAverage(data, interval = fast_period)\n",
      "\u001b[36mFile \u001b[39m\u001b[32mc:\\Users\\tzhik\\.conda\\envs\\prog_fund_3.12\\Lib\\site-packages\\finta\\finta.py:15\u001b[39m, in \u001b[36minputvalidator.<locals>.dfcheck.<locals>.wrap\u001b[39m\u001b[34m(*args, **kwargs)\u001b[39m\n\u001b[32m     12\u001b[39m args = \u001b[38;5;28mlist\u001b[39m(args)\n\u001b[32m     13\u001b[39m i = \u001b[32m0\u001b[39m \u001b[38;5;28;01mif\u001b[39;00m \u001b[38;5;28misinstance\u001b[39m(args[\u001b[32m0\u001b[39m], pd.DataFrame) \u001b[38;5;28;01melse\u001b[39;00m \u001b[32m1\u001b[39m\n\u001b[32m---> \u001b[39m\u001b[32m15\u001b[39m args[i] = \u001b[43margs\u001b[49m\u001b[43m[\u001b[49m\u001b[43mi\u001b[49m\u001b[43m]\u001b[49m.rename(columns={c: c.lower() \u001b[38;5;28;01mfor\u001b[39;00m c \u001b[38;5;129;01min\u001b[39;00m args[i].columns})\n\u001b[32m     17\u001b[39m inputs = {\n\u001b[32m     18\u001b[39m     \u001b[33m\"\u001b[39m\u001b[33mo\u001b[39m\u001b[33m\"\u001b[39m: \u001b[33m\"\u001b[39m\u001b[33mopen\u001b[39m\u001b[33m\"\u001b[39m,\n\u001b[32m     19\u001b[39m     \u001b[33m\"\u001b[39m\u001b[33mh\u001b[39m\u001b[33m\"\u001b[39m: \u001b[33m\"\u001b[39m\u001b[33mhigh\u001b[39m\u001b[33m\"\u001b[39m,\n\u001b[32m   (...)\u001b[39m\u001b[32m     22\u001b[39m     \u001b[33m\"\u001b[39m\u001b[33mv\u001b[39m\u001b[33m\"\u001b[39m: \u001b[33m\"\u001b[39m\u001b[33mvolume\u001b[39m\u001b[33m\"\u001b[39m,\n\u001b[32m     23\u001b[39m }\n\u001b[32m     25\u001b[39m \u001b[38;5;28;01mif\u001b[39;00m inputs[\u001b[33m\"\u001b[39m\u001b[33mc\u001b[39m\u001b[33m\"\u001b[39m] != \u001b[33m\"\u001b[39m\u001b[33mclose\u001b[39m\u001b[33m\"\u001b[39m:\n",
      "\u001b[31mIndexError\u001b[39m: list index out of range"
     ]
    }
   ],
   "source": [
    "movingAverageConvergenceDiversion(aapl_close, fast_period = 12, slow_period = 26, signal_period = 9)\n"
   ]
  },
  {
   "cell_type": "code",
   "execution_count": 97,
   "id": "a96f7d56",
   "metadata": {},
   "outputs": [],
   "source": [
    "def movingAverageConvergenceDiversion(data, fast_period=12, slow_period=26, signal_period=9):\n",
    "    # Get TA-Lib's MACD for comparison\n",
    "    talib_macd, talib_signal, talib_hist = talib.MACD(data, fastperiod=fast_period, \n",
    "                                                     slowperiod=slow_period, signalperiod=signal_period)\n",
    "    print('Talib MACD:', talib_macd)\n",
    "\n",
    "    # Calculate EMAs using your function (which matches TA-Lib)\n",
    "    ema_fast = exponentialMovingAverage(data, interval=fast_period)\n",
    "    ema_slow = exponentialMovingAverage(data, interval=slow_period)\n",
    "    \n",
    "    # Convert to pandas Series with the same index as the original data\n",
    "    ema_fast_series = pd.Series(ema_fast, index=data.index)\n",
    "    ema_slow_series = pd.Series(ema_slow, index=data.index)\n",
    "    \n",
    "    # Find the first index where both EMAs have valid values\n",
    "    # The slow EMA will have more NaN values at the beginning\n",
    "    first_valid_index = max(ema_fast_series.first_valid_index(), ema_slow_series.first_valid_index())\n",
    "    \n",
    "    # Align the EMAs to start from the same point\n",
    "    aligned_fast = ema_fast_series[first_valid_index:]\n",
    "    aligned_slow = ema_slow_series[first_valid_index:]\n",
    "    \n",
    "    # Calculate MACD line (difference between fast and slow EMA)\n",
    "    macd_line = aligned_fast - aligned_slow\n",
    "    \n",
    "    # For debugging, let's compare our MACD line with TA-Lib's\n",
    "    print(\"Comparison of MACD values:\")\n",
    "    for i, (idx, val) in enumerate(macd_line.items()):\n",
    "        talib_val = talib_macd.loc[idx]\n",
    "        if not (pd.isna(val) and pd.isna(talib_val)) and not np.isclose(val, talib_val, equal_nan=True):\n",
    "            print(f\"Index {i} ({idx}): Our MACD={val}, TA-Lib MACD={talib_val}\")\n",
    "    \n",
    "    # The rest of your code for signal line and histogram...\n",
    "    # (You mentioned you're not getting to this part yet)\n",
    "    \n",
    "    return macd_line.values"
   ]
  },
  {
   "cell_type": "code",
   "execution_count": 98,
   "id": "cbc436d3",
   "metadata": {},
   "outputs": [
    {
     "name": "stdout",
     "output_type": "stream",
     "text": [
      "Talib MACD: Date\n",
      "2022-01-03 05:00:00+00:00         NaN\n",
      "2022-01-04 05:00:00+00:00         NaN\n",
      "2022-01-05 05:00:00+00:00         NaN\n",
      "2022-01-06 05:00:00+00:00         NaN\n",
      "2022-01-07 05:00:00+00:00         NaN\n",
      "                               ...   \n",
      "2022-03-25 04:00:00+00:00    1.194228\n",
      "2022-03-28 04:00:00+00:00    1.818255\n",
      "2022-03-29 04:00:00+00:00    2.549564\n",
      "2022-03-30 04:00:00+00:00    3.000282\n",
      "2022-03-31 04:00:00+00:00    3.071762\n",
      "Length: 62, dtype: float64\n",
      "Comparison of MACD values:\n",
      "Index 0 (2022-02-08 05:00:00+00:00): Our MACD=0.6640251678744278, TA-Lib MACD=nan\n",
      "Index 1 (2022-02-09 05:00:00+00:00): Our MACD=1.0100555309047934, TA-Lib MACD=nan\n",
      "Index 2 (2022-02-10 05:00:00+00:00): Our MACD=0.9438914051779932, TA-Lib MACD=nan\n",
      "Index 3 (2022-02-11 05:00:00+00:00): Our MACD=0.6087819745326328, TA-Lib MACD=nan\n",
      "Index 4 (2022-02-14 05:00:00+00:00): Our MACD=0.3580905581625302, TA-Lib MACD=nan\n",
      "Index 5 (2022-02-15 05:00:00+00:00): Our MACD=0.46378483073181087, TA-Lib MACD=nan\n",
      "Index 6 (2022-02-16 05:00:00+00:00): Our MACD=0.5225156945273, TA-Lib MACD=nan\n",
      "Index 7 (2022-02-17 05:00:00+00:00): Our MACD=0.27518232074044136, TA-Lib MACD=nan\n",
      "Index 8 (2022-02-18 05:00:00+00:00): Our MACD=-0.045463107344886566, TA-Lib MACD=-0.670287177372586\n",
      "Index 9 (2022-02-22 05:00:00+00:00): Our MACD=-0.5295184240770539, TA-Lib MACD=-1.0582157141004984\n",
      "Index 10 (2022-02-23 05:00:00+00:00): Our MACD=-1.2355421793820938, TA-Lib MACD=-1.682901424786536\n",
      "Index 11 (2022-02-24 05:00:00+00:00): Our MACD=-1.565529210651988, TA-Lib MACD=-1.9440639567634435\n",
      "Index 12 (2022-02-25 05:00:00+00:00): Our MACD=-1.640996667913555, TA-Lib MACD=-1.9612952992386\n",
      "Index 13 (2022-02-28 05:00:00+00:00): Our MACD=-1.660279572263505, TA-Lib MACD=-1.9313014910769937\n",
      "Index 14 (2022-03-01 05:00:00+00:00): Our MACD=-1.8068183697198776, TA-Lib MACD=-2.0361446087158868\n",
      "Index 15 (2022-03-02 05:00:00+00:00): Our MACD=-1.6379207997783567, TA-Lib MACD=-1.831966078928815\n",
      "Index 16 (2022-03-03 05:00:00+00:00): Our MACD=-1.5127707908990828, TA-Lib MACD=-1.6769629501802115\n",
      "Index 17 (2022-03-04 05:00:00+00:00): Our MACD=-1.6371022165692182, TA-Lib MACD=-1.7760340436532829\n",
      "Index 18 (2022-03-07 05:00:00+00:00): Our MACD=-2.0189102518970117, TA-Lib MACD=-2.136467951737359\n",
      "Index 19 (2022-03-08 05:00:00+00:00): Our MACD=-2.4406932612579055, TA-Lib MACD=-2.5401651611228147\n",
      "Index 20 (2022-03-09 05:00:00+00:00): Our MACD=-2.311856263277548, TA-Lib MACD=-2.396024793932469\n",
      "Index 21 (2022-03-10 05:00:00+00:00): Our MACD=-2.5314752247668935, TA-Lib MACD=-2.602694750705666\n",
      "Index 22 (2022-03-11 05:00:00+00:00): Our MACD=-2.9714826102914174, TA-Lib MACD=-3.0317452860857372\n",
      "Index 23 (2022-03-14 04:00:00+00:00): Our MACD=-3.604201243415389, TA-Lib MACD=-3.655192738318277\n",
      "Index 24 (2022-03-15 04:00:00+00:00): Our MACD=-3.708812395688682, TA-Lib MACD=-3.751959045221895\n",
      "Index 25 (2022-03-16 04:00:00+00:00): Our MACD=-3.39611664473, TA-Lib MACD=-3.4326253481811477\n",
      "Index 26 (2022-03-17 04:00:00+00:00): Our MACD=-3.0317679096795302, TA-Lib MACD=-3.0626598895227914\n",
      "Index 27 (2022-03-18 04:00:00+00:00): Our MACD=-2.448644008247612, TA-Lib MACD=-2.4747833758073057\n",
      "Index 28 (2022-03-21 04:00:00+00:00): Our MACD=-1.8542439431406308, TA-Lib MACD=-1.8763618695373054\n",
      "Index 29 (2022-03-22 04:00:00+00:00): Our MACD=-1.0980307617024607, TA-Lib MACD=-1.1167459301919678\n",
      "Index 30 (2022-03-23 04:00:00+00:00): Our MACD=-0.3841937171731047, TA-Lib MACD=-0.40002962897193584\n",
      "Index 31 (2022-03-24 04:00:00+00:00): Our MACD=0.48172729590618246, TA-Lib MACD=0.46832767823022436\n",
      "Index 32 (2022-03-25 04:00:00+00:00): Our MACD=1.2055663822751796, TA-Lib MACD=1.1942282442416854\n",
      "Index 33 (2022-03-28 04:00:00+00:00): Our MACD=1.8278489074257322, TA-Lib MACD=1.8182550983204635\n",
      "Index 34 (2022-03-29 04:00:00+00:00): Our MACD=2.557682307414524, TA-Lib MACD=2.5495644689408437\n",
      "Index 35 (2022-03-30 04:00:00+00:00): Our MACD=3.007150953653195, TA-Lib MACD=3.0002820134062063\n",
      "Index 36 (2022-03-31 04:00:00+00:00): Our MACD=3.0775746189472386, TA-Lib MACD=3.071762438738233\n",
      "[ 0.66402517  1.01005553  0.94389141  0.60878197  0.35809056  0.46378483\n",
      "  0.52251569  0.27518232 -0.04546311 -0.52951842 -1.23554218 -1.56552921\n",
      " -1.64099667 -1.66027957 -1.80681837 -1.6379208  -1.51277079 -1.63710222\n",
      " -2.01891025 -2.44069326 -2.31185626 -2.53147522 -2.97148261 -3.60420124\n",
      " -3.7088124  -3.39611664 -3.03176791 -2.44864401 -1.85424394 -1.09803076\n",
      " -0.38419372  0.4817273   1.20556638  1.82784891  2.55768231  3.00715095\n",
      "  3.07757462]\n"
     ]
    }
   ],
   "source": [
    "print(movingAverageConvergenceDiversion(aapl_close, fast_period = 12, slow_period = 26, signal_period = 9))\n"
   ]
  },
  {
   "cell_type": "code",
   "execution_count": 113,
   "id": "ef9bd652",
   "metadata": {},
   "outputs": [
    {
     "name": "stdout",
     "output_type": "stream",
     "text": [
      "                               MACD    SIGNAL\n",
      "Date                                         \n",
      "2022-01-03 05:00:00+00:00  0.000000  0.000000\n",
      "2022-01-04 05:00:00+00:00 -0.050810 -0.028228\n",
      "2022-01-05 05:00:00+00:00 -0.210066 -0.102752\n",
      "2022-01-06 05:00:00+00:00 -0.380709 -0.196911\n",
      "2022-01-07 05:00:00+00:00 -0.458787 -0.274813\n",
      "...                             ...       ...\n",
      "2022-03-25 04:00:00+00:00  1.285551 -0.778881\n",
      "2022-03-28 04:00:00+00:00  1.893917 -0.244320\n",
      "2022-03-29 04:00:00+00:00  2.609585  0.326461\n",
      "2022-03-30 04:00:00+00:00  3.048047  0.870779\n",
      "2022-03-31 04:00:00+00:00  3.111246  1.318873\n",
      "\n",
      "[62 rows x 2 columns]\n"
     ]
    }
   ],
   "source": [
    "# data = yf.download(\"AAPL\", start=\"2020-01-01\", end=\"2023-01-01\")\n",
    "\n",
    "# # Ensure OHLC data has lowercase columns\n",
    "# data.columns = [col.lower() for col in data.columns]\n",
    "\n",
    "# Calculate MACD\n",
    "macd_series = TA.MACD(aapl_df)\n",
    "print(macd_series)"
   ]
  },
  {
   "cell_type": "code",
   "execution_count": 108,
   "id": "10497f81",
   "metadata": {},
   "outputs": [],
   "source": [
    "aapl_df = ticker_dict['AAPL'].loc['2022-01-03':'2022-03-31']\n",
    "aapl_df.columns = [col.lower() for col in aapl_df.columns]"
   ]
  },
  {
   "cell_type": "code",
   "execution_count": 109,
   "id": "2162278a",
   "metadata": {},
   "outputs": [
    {
     "name": "stdout",
     "output_type": "stream",
     "text": [
      "                                 open        high         low       close  \\\n",
      "Date                                                                        \n",
      "2022-01-03 05:00:00+00:00  174.345039  179.296076  174.227395  178.443115   \n",
      "2022-01-04 05:00:00+00:00  179.051010  179.354932  175.609785  176.178421   \n",
      "2022-01-05 05:00:00+00:00  176.090157  176.639180  171.217554  171.492065   \n",
      "2022-01-06 05:00:00+00:00  169.315597  171.864651  168.276373  168.629318   \n",
      "2022-01-07 05:00:00+00:00  169.501866  170.727370  167.678316  168.795975   \n",
      "...                               ...         ...         ...         ...   \n",
      "2022-03-25 04:00:00+00:00  170.689668  172.063974  169.580396  171.514252   \n",
      "2022-03-28 04:00:00+00:00  169.011023  172.505702  168.844144  172.378098   \n",
      "2022-03-29 04:00:00+00:00  173.448144  175.725569  173.104559  175.676498   \n",
      "2022-03-30 04:00:00+00:00  175.273973  176.314522  173.457911  174.508286   \n",
      "2022-03-31 04:00:00+00:00  174.576997  174.763513  171.200112  171.406265   \n",
      "\n",
      "                              volume  dividends  stock splits  \n",
      "Date                                                           \n",
      "2022-01-03 05:00:00+00:00  104487900        0.0           0.0  \n",
      "2022-01-04 05:00:00+00:00   99310400        0.0           0.0  \n",
      "2022-01-05 05:00:00+00:00   94537600        0.0           0.0  \n",
      "2022-01-06 05:00:00+00:00   96904000        0.0           0.0  \n",
      "2022-01-07 05:00:00+00:00   86709100        0.0           0.0  \n",
      "...                              ...        ...           ...  \n",
      "2022-03-25 04:00:00+00:00   80546200        0.0           0.0  \n",
      "2022-03-28 04:00:00+00:00   90371900        0.0           0.0  \n",
      "2022-03-29 04:00:00+00:00  100589400        0.0           0.0  \n",
      "2022-03-30 04:00:00+00:00   92633200        0.0           0.0  \n",
      "2022-03-31 04:00:00+00:00  103049300        0.0           0.0  \n",
      "\n",
      "[62 rows x 7 columns]\n"
     ]
    }
   ],
   "source": [
    "print(aapl_df)"
   ]
  },
  {
   "cell_type": "code",
   "execution_count": null,
   "id": "21fef031",
   "metadata": {},
   "outputs": [],
   "source": []
  }
 ],
 "metadata": {
  "kernelspec": {
   "display_name": "prog_fund_3.12",
   "language": "python",
   "name": "python3"
  },
  "language_info": {
   "codemirror_mode": {
    "name": "ipython",
    "version": 3
   },
   "file_extension": ".py",
   "mimetype": "text/x-python",
   "name": "python",
   "nbconvert_exporter": "python",
   "pygments_lexer": "ipython3",
   "version": "3.12.3"
  }
 },
 "nbformat": 4,
 "nbformat_minor": 5
}
