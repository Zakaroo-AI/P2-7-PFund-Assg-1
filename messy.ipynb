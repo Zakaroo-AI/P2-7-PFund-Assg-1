{
 "cells": [
  {
   "cell_type": "code",
   "execution_count": 99,
   "id": "d90375e8",
   "metadata": {},
   "outputs": [],
   "source": [
    "import time\n",
    "import random\n",
    "\n",
    "import matplotlib.pyplot as plt\n",
    "import pandas as pd\n",
    "\n",
    "import yfinance as yf"
   ]
  },
  {
   "cell_type": "code",
   "execution_count": 44,
   "id": "35ca75ac",
   "metadata": {},
   "outputs": [],
   "source": [
    "TICKERS = ['AAPL', 'MSFT', 'GOOGL', 'AMZN', 'TSLA']\n",
    "FFILL_COLS = ['Open', 'High', 'Low', 'Close']"
   ]
  },
  {
   "cell_type": "code",
   "execution_count": null,
   "id": "d6350e1b",
   "metadata": {},
   "outputs": [],
   "source": [
    "# import stock data from downloaded csv\n",
    "\n",
    "ticker_dict = {}\n",
    "for ticker in TICKERS:\n",
    "    df = pd.read_csv(f'data_2022\\\\{ticker}_2022.csv', index_col = 'Date', parse_dates = True)\n",
    "    df.index = pd.to_datetime(df.index, utc = True)\n",
    "    df = df.loc['2022-01-01': '2022-01-31']\n",
    "    # print(ticker, df.isnull().sum())\n",
    "    # print(ticker, df.isnull().any())\n",
    "\n",
    "    # no point summing if im gna not look at it\n",
    "\n",
    "    df[FFILL_COLS] = df[FFILL_COLS].ffill()\n",
    "    #df[FFILL_COLS] = df[FFILL_COLS].ffill().bfill() # bfill for leading NaNs\n",
    "    ticker_dict[ticker] = df\n",
    "\n",
    "    "
   ]
  },
  {
   "cell_type": "code",
   "execution_count": null,
   "id": "d71e801e",
   "metadata": {},
   "outputs": [],
   "source": [
    "# ensure stock data has same index (adds in missing rows) (so window comparisons dont differ) \n",
    "\n",
    "def fixWindow(ticker_data):\n",
    "    \"\"\"\n",
    "    input (df): one stock dataframe\n",
    "    alt input (dfs): any number of stock dataframes\n",
    "    \n",
    "    output (df/dfs): input with corrected rows\n",
    "    \"\"\"\n",
    "    \n",
    "    \n",
    "    return"
   ]
  },
  {
   "cell_type": "code",
   "execution_count": null,
   "id": "e4e83af1",
   "metadata": {},
   "outputs": [],
   "source": [
    "# Simple Moving Average (SMA) func\n",
    "def simpleMovingAverage(ticker, start, end, ticker_dict = ticker_dict):\n",
    "    \"\"\" Calculates the average closing price over a user defined period for the specified stock\n",
    "\n",
    "    Args:\n",
    "        ticker (str): stock ticker\n",
    "        start (str): first entry in interval\n",
    "        end (str): last entry in interval\n",
    "        ticker_dict (dict: str[df]): defaults to ticker_dict\n",
    "    \n",
    "    Returns:\n",
    "        float: the average closing price\n",
    "    \"\"\"\n",
    "    truncated = ticker_dict[ticker].loc[start: end]['Close']\n",
    "    return truncated.mean()    # this should probably be the pytest instead"
   ]
  },
  {
   "cell_type": "code",
   "execution_count": 152,
   "id": "d58df4fa",
   "metadata": {},
   "outputs": [
    {
     "name": "stdout",
     "output_type": "stream",
     "text": [
      "166.53271408081054\n",
      "(4, 8)\n"
     ]
    }
   ],
   "source": [
    "print(simpleMovingAverage('AAPL', '2022-01-03', '2022-01-31'))\n",
    "print(upwardDownwardRuns('AAPL', '2022-01-03', '2022-01-31'))"
   ]
  },
  {
   "cell_type": "code",
   "execution_count": 150,
   "id": "91ed9e79",
   "metadata": {},
   "outputs": [],
   "source": [
    "# Upward and Downward Runs\n",
    "def upwardDownwardRuns(ticker, start, end, ticker_dict = ticker_dict):\n",
    "    \"\"\" Calculates highest no. of consecutive upward and downward trending closing prices\n",
    "\n",
    "    Args:\n",
    "        ticker (str): stock ticker\n",
    "        start (str): first entry in interval\n",
    "        end (str): last entry in interval\n",
    "        ticker_dict (dict: str[df]): defaults to ticker_dict\n",
    "    \n",
    "    Returns:\n",
    "        upward (int): no. of days in longest trend upwards of closing price\n",
    "        downward (int): no. of days in longest trend downwards of closing price\n",
    "    \"\"\"\n",
    "    truncated = ticker_dict[ticker].loc[start: end]['Close']\n",
    "\n",
    "    upward = 0\n",
    "    downward = 0\n",
    "    highscore = 0\n",
    "    lowscore = 0\n",
    "    i = 1\n",
    "    n = len(truncated)\n",
    "    while i < n:\n",
    "        diff = truncated.iloc[i] - truncated.iloc[i - 1]\n",
    "        if diff > 0:\n",
    "            upward += 1\n",
    "            downward = 0\n",
    "            if upward > highscore:\n",
    "                highscore = upward\n",
    "            # highscore = max(highscore, upward)\n",
    "        elif diff < 0:\n",
    "            downward += 1\n",
    "            upward = 0\n",
    "            if downward > lowscore:\n",
    "                lowscore = downward\n",
    "            # lowscore = max(lowscore, downward)\n",
    "        else:\n",
    "            upward = 0\n",
    "            downward = 0\n",
    "        i += 1\n",
    "        \n",
    "    return highscore, lowscore"
   ]
  },
  {
   "cell_type": "code",
   "execution_count": 132,
   "id": "da700edd",
   "metadata": {},
   "outputs": [],
   "source": [
    "test_range = [random.randint(0, 10) for _ in range(1000000)]"
   ]
  },
  {
   "cell_type": "code",
   "execution_count": 144,
   "id": "0b461b24",
   "metadata": {},
   "outputs": [
    {
     "name": "stdout",
     "output_type": "stream",
     "text": [
      "6 6\n",
      "--- 0.20491361618041992 seconds ---\n"
     ]
    }
   ],
   "source": [
    "#test_range = [random.randint(0, 100) for _ in range(1000000)]\n",
    "start_time = time.time()\n",
    "upward = 0\n",
    "downward = 0\n",
    "highscore = 0\n",
    "lowscore = 0\n",
    "i = 1\n",
    "n = len(test_range)\n",
    "while i < n:\n",
    "    diff = test_range[i] - test_range[i - 1]\n",
    "    if diff > 0:\n",
    "        upward += 1\n",
    "        downward = 0\n",
    "        if upward > highscore:\n",
    "            highscore = upward\n",
    "        # highscore = max(highscore, upward)\n",
    "    elif diff < 0:\n",
    "        downward += 1\n",
    "        upward = 0\n",
    "        if downward > lowscore:\n",
    "            lowscore = downward\n",
    "        # lowscore = max(lowscore, downward)\n",
    "    else:\n",
    "        upward = 0\n",
    "        downward = 0\n",
    "    i += 1\n",
    "\n",
    "print(highscore, lowscore)\n",
    "print(\"--- %s seconds ---\" % (time.time() - start_time))    "
   ]
  },
  {
   "cell_type": "code",
   "execution_count": 131,
   "id": "c1c5c530",
   "metadata": {},
   "outputs": [
    {
     "name": "stdout",
     "output_type": "stream",
     "text": [
      "8 9\n",
      "--- 0.3613138198852539 seconds ---\n"
     ]
    }
   ],
   "source": [
    "start_time = time.time()\n",
    "upward = 0\n",
    "downward = 0\n",
    "highscore = 0\n",
    "lowscore = 0\n",
    "i = 1\n",
    "while i < len(test_range):\n",
    "    if test_range[i] > test_range[i - 1]:\n",
    "        upward += 1\n",
    "        downward = 0\n",
    "    elif test_range[i] < test_range[i - 1]:\n",
    "        downward += 1\n",
    "        upward = 0\n",
    "\n",
    "    highscore = max(upward, highscore)\n",
    "    lowscore = max(downward, lowscore)\n",
    "    i += 1\n",
    "\n",
    "print(highscore, lowscore)\n",
    "print(\"--- %s seconds ---\" % (time.time() - start_time))   "
   ]
  },
  {
   "cell_type": "code",
   "execution_count": null,
   "id": "def04a99",
   "metadata": {},
   "outputs": [
    {
     "data": {
      "text/html": [
       "<div>\n",
       "<style scoped>\n",
       "    .dataframe tbody tr th:only-of-type {\n",
       "        vertical-align: middle;\n",
       "    }\n",
       "\n",
       "    .dataframe tbody tr th {\n",
       "        vertical-align: top;\n",
       "    }\n",
       "\n",
       "    .dataframe thead th {\n",
       "        text-align: right;\n",
       "    }\n",
       "</style>\n",
       "<table border=\"1\" class=\"dataframe\">\n",
       "  <thead>\n",
       "    <tr style=\"text-align: right;\">\n",
       "      <th></th>\n",
       "      <th>Date</th>\n",
       "      <th>Open</th>\n",
       "      <th>High</th>\n",
       "      <th>Low</th>\n",
       "      <th>Close</th>\n",
       "      <th>Volume</th>\n",
       "      <th>Dividends</th>\n",
       "      <th>Stock Splits</th>\n",
       "    </tr>\n",
       "  </thead>\n",
       "  <tbody>\n",
       "    <tr>\n",
       "      <th>0</th>\n",
       "      <td>2022-01-03 00:00:00-05:00</td>\n",
       "      <td>174.345039</td>\n",
       "      <td>179.296076</td>\n",
       "      <td>174.227395</td>\n",
       "      <td>178.443115</td>\n",
       "      <td>104487900</td>\n",
       "      <td>0.0</td>\n",
       "      <td>0.0</td>\n",
       "    </tr>\n",
       "    <tr>\n",
       "      <th>1</th>\n",
       "      <td>2022-01-04 00:00:00-05:00</td>\n",
       "      <td>179.051010</td>\n",
       "      <td>179.354932</td>\n",
       "      <td>175.609785</td>\n",
       "      <td>176.178421</td>\n",
       "      <td>99310400</td>\n",
       "      <td>0.0</td>\n",
       "      <td>0.0</td>\n",
       "    </tr>\n",
       "    <tr>\n",
       "      <th>2</th>\n",
       "      <td>2022-01-05 00:00:00-05:00</td>\n",
       "      <td>176.090157</td>\n",
       "      <td>176.639180</td>\n",
       "      <td>171.217554</td>\n",
       "      <td>171.492065</td>\n",
       "      <td>94537600</td>\n",
       "      <td>0.0</td>\n",
       "      <td>0.0</td>\n",
       "    </tr>\n",
       "    <tr>\n",
       "      <th>3</th>\n",
       "      <td>2022-01-06 00:00:00-05:00</td>\n",
       "      <td>169.315597</td>\n",
       "      <td>171.864651</td>\n",
       "      <td>168.276373</td>\n",
       "      <td>168.629318</td>\n",
       "      <td>96904000</td>\n",
       "      <td>0.0</td>\n",
       "      <td>0.0</td>\n",
       "    </tr>\n",
       "    <tr>\n",
       "      <th>4</th>\n",
       "      <td>2022-01-07 00:00:00-05:00</td>\n",
       "      <td>169.501866</td>\n",
       "      <td>170.727370</td>\n",
       "      <td>167.678316</td>\n",
       "      <td>168.795975</td>\n",
       "      <td>86709100</td>\n",
       "      <td>0.0</td>\n",
       "      <td>0.0</td>\n",
       "    </tr>\n",
       "  </tbody>\n",
       "</table>\n",
       "</div>"
      ],
      "text/plain": [
       "                        Date        Open        High         Low       Close  \\\n",
       "0  2022-01-03 00:00:00-05:00  174.345039  179.296076  174.227395  178.443115   \n",
       "1  2022-01-04 00:00:00-05:00  179.051010  179.354932  175.609785  176.178421   \n",
       "2  2022-01-05 00:00:00-05:00  176.090157  176.639180  171.217554  171.492065   \n",
       "3  2022-01-06 00:00:00-05:00  169.315597  171.864651  168.276373  168.629318   \n",
       "4  2022-01-07 00:00:00-05:00  169.501866  170.727370  167.678316  168.795975   \n",
       "\n",
       "      Volume  Dividends  Stock Splits  \n",
       "0  104487900        0.0           0.0  \n",
       "1   99310400        0.0           0.0  \n",
       "2   94537600        0.0           0.0  \n",
       "3   96904000        0.0           0.0  \n",
       "4   86709100        0.0           0.0  "
      ]
     },
     "execution_count": 32,
     "metadata": {},
     "output_type": "execute_result"
    }
   ],
   "source": [
    "# use timedelta to create sma\n",
    "# possible edge case wud be cuz of missing entry\n",
    "sma_test = ticker_dict['AAPL'].head()\n",
    "sma_test"
   ]
  },
  {
   "cell_type": "code",
   "execution_count": 37,
   "id": "bcfbdce5",
   "metadata": {},
   "outputs": [
    {
     "name": "stdout",
     "output_type": "stream",
     "text": [
      "172.70777893066406\n"
     ]
    }
   ],
   "source": [
    "print(simpleMovingAverage(sma_test))"
   ]
  },
  {
   "cell_type": "markdown",
   "id": "0f805651",
   "metadata": {},
   "source": [
    "valid intervals = [1m, 2m, 5m, 15m, 30m, 60m, 90m, 1h, 4h, 1d, 5d, 1wk, 1mo, 3mo]\n",
    "1min:\n",
    "2min:\n",
    "\n",
    "\n",
    "\n",
    "1day:\n"
   ]
  },
  {
   "cell_type": "code",
   "execution_count": 25,
   "id": "5c0b6da9",
   "metadata": {},
   "outputs": [
    {
     "name": "stderr",
     "output_type": "stream",
     "text": [
      "C:\\Users\\tzhik\\AppData\\Local\\Temp\\ipykernel_37260\\4092406099.py:2: FutureWarning: 'H' is deprecated and will be removed in a future version, please use 'h' instead.\n",
      "  idx = pd.date_range(start = '2022-01-01 00:00:00', end = '2024-12-31 23:59:59', freq = 'H')\n"
     ]
    },
    {
     "data": {
      "text/plain": [
       "DatetimeIndex(['2022-01-01 09:00:00', '2022-01-01 10:00:00',\n",
       "               '2022-01-01 11:00:00', '2022-01-01 12:00:00',\n",
       "               '2022-01-01 13:00:00', '2022-01-01 14:00:00',\n",
       "               '2022-01-01 15:00:00', '2022-01-01 16:00:00',\n",
       "               '2022-01-02 09:00:00', '2022-01-02 10:00:00',\n",
       "               ...\n",
       "               '2024-12-30 15:00:00', '2024-12-30 16:00:00',\n",
       "               '2024-12-31 09:00:00', '2024-12-31 10:00:00',\n",
       "               '2024-12-31 11:00:00', '2024-12-31 12:00:00',\n",
       "               '2024-12-31 13:00:00', '2024-12-31 14:00:00',\n",
       "               '2024-12-31 15:00:00', '2024-12-31 16:00:00'],\n",
       "              dtype='datetime64[ns]', length=8768, freq=None)"
      ]
     },
     "execution_count": 25,
     "metadata": {},
     "output_type": "execute_result"
    }
   ],
   "source": [
    "# start and end will be gotten from the user's choice/input in web app\n",
    "idx = pd.date_range(start = '2022-01-01 00:00:00', end = '2024-12-31 23:59:59', freq = 'H')\n",
    "idx = idx[idx.indexer_between_time('09:00', '16:30')]\n",
    "idx"
   ]
  },
  {
   "cell_type": "code",
   "execution_count": null,
   "id": "51025169",
   "metadata": {},
   "outputs": [
    {
     "name": "stdout",
     "output_type": "stream",
     "text": [
      "       value\n",
      "9          0\n",
      "10         1\n",
      "11         2\n",
      "12         3\n",
      "13         4\n",
      "...      ...\n",
      "26292   8763\n",
      "26293   8764\n",
      "26294   8765\n",
      "26295   8766\n",
      "26296   8767\n",
      "\n",
      "[8768 rows x 1 columns]\n"
     ]
    }
   ],
   "source": []
  },
  {
   "cell_type": "code",
   "execution_count": null,
   "id": "5f3cb500",
   "metadata": {},
   "outputs": [],
   "source": []
  },
  {
   "cell_type": "code",
   "execution_count": null,
   "id": "92db51ee",
   "metadata": {},
   "outputs": [],
   "source": []
  },
  {
   "cell_type": "code",
   "execution_count": null,
   "id": "9d23e82e",
   "metadata": {},
   "outputs": [],
   "source": []
  }
 ],
 "metadata": {
  "kernelspec": {
   "display_name": "prog_fund",
   "language": "python",
   "name": "python3"
  },
  "language_info": {
   "codemirror_mode": {
    "name": "ipython",
    "version": 3
   },
   "file_extension": ".py",
   "mimetype": "text/x-python",
   "name": "python",
   "nbconvert_exporter": "python",
   "pygments_lexer": "ipython3",
   "version": "3.13.5"
  }
 },
 "nbformat": 4,
 "nbformat_minor": 5
}
